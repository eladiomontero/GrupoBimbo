{
 "cells": [
  {
   "cell_type": "code",
   "execution_count": 7,
   "metadata": {
    "collapsed": true
   },
   "outputs": [],
   "source": [
    "import matplotlib.pyplot as plt\n",
    "%matplotlib inline\n",
    "import numpy as np\n",
    "import dateutil\n",
    "import plotly.plotly as py\n",
    "import sqlite3\n",
    "import pandas as pd\n",
    "from sqlalchemy import create_engine\n",
    "import datetime as dt\n",
    "from IPython.display import display\n",
    "import os.path"
   ]
  },
  {
   "cell_type": "code",
   "execution_count": 10,
   "metadata": {
    "collapsed": false
   },
   "outputs": [
    {
     "name": "stdout",
     "output_type": "stream",
     "text": [
      " \"..//GrupoBimbo.db\" database successfully opened \n"
     ]
    }
   ],
   "source": [
    "def create_or_open_db(filename):\n",
    "    file_exists = os.path.isfile(filename)\n",
    "    conn = sqlite3.connect(filename)\n",
    "    if file_exists:\n",
    "        print ''' \"{}\" database successfully opened '''.format(filename)\n",
    "    else:\n",
    "        print ''' \"{}\" database successfully created '''.format(filename)\n",
    "    return conn\n",
    "disk_engine = create_or_open_db('..//GrupoBimbo.db')"
   ]
  },
  {
   "cell_type": "code",
   "execution_count": 11,
   "metadata": {
    "collapsed": false
   },
   "outputs": [
    {
     "data": {
      "text/html": [
       "<div>\n",
       "<table border=\"1\" class=\"dataframe\">\n",
       "  <thead>\n",
       "    <tr style=\"text-align: right;\">\n",
       "      <th></th>\n",
       "      <th>Semana</th>\n",
       "      <th>Agencia_ID</th>\n",
       "      <th>Canal_ID</th>\n",
       "      <th>Ruta_SAK</th>\n",
       "      <th>Cliente_ID</th>\n",
       "      <th>Producto_ID</th>\n",
       "      <th>Venta_uni_hoy</th>\n",
       "      <th>Venta_hoy</th>\n",
       "      <th>Dev_uni_proxima</th>\n",
       "      <th>Dev_proxima</th>\n",
       "      <th>Demanda_uni_equil</th>\n",
       "    </tr>\n",
       "  </thead>\n",
       "  <tbody>\n",
       "    <tr>\n",
       "      <th>0</th>\n",
       "      <td>3</td>\n",
       "      <td>1110</td>\n",
       "      <td>7</td>\n",
       "      <td>3301</td>\n",
       "      <td>15766</td>\n",
       "      <td>1212</td>\n",
       "      <td>3</td>\n",
       "      <td>25.14</td>\n",
       "      <td>0</td>\n",
       "      <td>0.0</td>\n",
       "      <td>3</td>\n",
       "    </tr>\n",
       "    <tr>\n",
       "      <th>1</th>\n",
       "      <td>3</td>\n",
       "      <td>1110</td>\n",
       "      <td>7</td>\n",
       "      <td>3301</td>\n",
       "      <td>15766</td>\n",
       "      <td>1216</td>\n",
       "      <td>4</td>\n",
       "      <td>33.52</td>\n",
       "      <td>0</td>\n",
       "      <td>0.0</td>\n",
       "      <td>4</td>\n",
       "    </tr>\n",
       "  </tbody>\n",
       "</table>\n",
       "</div>"
      ],
      "text/plain": [
       "   Semana  Agencia_ID  Canal_ID  Ruta_SAK  Cliente_ID  Producto_ID  \\\n",
       "0       3        1110         7      3301       15766         1212   \n",
       "1       3        1110         7      3301       15766         1216   \n",
       "\n",
       "   Venta_uni_hoy  Venta_hoy  Dev_uni_proxima  Dev_proxima  Demanda_uni_equil  \n",
       "0              3      25.14                0          0.0                  3  \n",
       "1              4      33.52                0          0.0                  4  "
      ]
     },
     "metadata": {},
     "output_type": "display_data"
    }
   ],
   "source": [
    "display(pd.read_csv('C:\\\\Users\\\\eladiomontero\\\\Desktop\\\\Grupo Bimbo\\\\train.csv', nrows=2).head())"
   ]
  },
  {
   "cell_type": "code",
   "execution_count": 6,
   "metadata": {
    "collapsed": false
   },
   "outputs": [],
   "source": [
    "start = dt.datetime.now()\n",
    "chunksize = 20000\n",
    "j = 0\n",
    "index_start = 1"
   ]
  },
  {
   "cell_type": "code",
   "execution_count": 32,
   "metadata": {
    "collapsed": false
   },
   "outputs": [
    {
     "data": {
      "text/html": [
       "<div>\n",
       "<table border=\"1\" class=\"dataframe\">\n",
       "  <thead>\n",
       "    <tr style=\"text-align: right;\">\n",
       "      <th></th>\n",
       "      <th>index</th>\n",
       "      <th>Semana</th>\n",
       "      <th>Agencia_ID</th>\n",
       "      <th>Canal_ID</th>\n",
       "      <th>Ruta_SAK</th>\n",
       "      <th>Cliente_ID</th>\n",
       "      <th>Producto_ID</th>\n",
       "      <th>Venta_uni_hoy</th>\n",
       "      <th>Venta_hoy</th>\n",
       "      <th>Dev_uni_proxima</th>\n",
       "      <th>Dev_proxima</th>\n",
       "      <th>Demanda_uni_equil</th>\n",
       "    </tr>\n",
       "  </thead>\n",
       "  <tbody>\n",
       "    <tr>\n",
       "      <th>0</th>\n",
       "      <td>1</td>\n",
       "      <td>3</td>\n",
       "      <td>1110</td>\n",
       "      <td>7</td>\n",
       "      <td>3301</td>\n",
       "      <td>15766</td>\n",
       "      <td>1212</td>\n",
       "      <td>3</td>\n",
       "      <td>25.14</td>\n",
       "      <td>0</td>\n",
       "      <td>0.0</td>\n",
       "      <td>3</td>\n",
       "    </tr>\n",
       "    <tr>\n",
       "      <th>1</th>\n",
       "      <td>2</td>\n",
       "      <td>3</td>\n",
       "      <td>1110</td>\n",
       "      <td>7</td>\n",
       "      <td>3301</td>\n",
       "      <td>15766</td>\n",
       "      <td>1216</td>\n",
       "      <td>4</td>\n",
       "      <td>33.52</td>\n",
       "      <td>0</td>\n",
       "      <td>0.0</td>\n",
       "      <td>4</td>\n",
       "    </tr>\n",
       "    <tr>\n",
       "      <th>2</th>\n",
       "      <td>3</td>\n",
       "      <td>3</td>\n",
       "      <td>1110</td>\n",
       "      <td>7</td>\n",
       "      <td>3301</td>\n",
       "      <td>15766</td>\n",
       "      <td>1238</td>\n",
       "      <td>4</td>\n",
       "      <td>39.32</td>\n",
       "      <td>0</td>\n",
       "      <td>0.0</td>\n",
       "      <td>4</td>\n",
       "    </tr>\n",
       "    <tr>\n",
       "      <th>3</th>\n",
       "      <td>4</td>\n",
       "      <td>3</td>\n",
       "      <td>1110</td>\n",
       "      <td>7</td>\n",
       "      <td>3301</td>\n",
       "      <td>15766</td>\n",
       "      <td>1240</td>\n",
       "      <td>4</td>\n",
       "      <td>33.52</td>\n",
       "      <td>0</td>\n",
       "      <td>0.0</td>\n",
       "      <td>4</td>\n",
       "    </tr>\n",
       "    <tr>\n",
       "      <th>4</th>\n",
       "      <td>5</td>\n",
       "      <td>3</td>\n",
       "      <td>1110</td>\n",
       "      <td>7</td>\n",
       "      <td>3301</td>\n",
       "      <td>15766</td>\n",
       "      <td>1242</td>\n",
       "      <td>3</td>\n",
       "      <td>22.92</td>\n",
       "      <td>0</td>\n",
       "      <td>0.0</td>\n",
       "      <td>3</td>\n",
       "    </tr>\n",
       "  </tbody>\n",
       "</table>\n",
       "</div>"
      ],
      "text/plain": [
       "   index  Semana  Agencia_ID  Canal_ID  Ruta_SAK  Cliente_ID  Producto_ID  \\\n",
       "0      1       3        1110         7      3301       15766         1212   \n",
       "1      2       3        1110         7      3301       15766         1216   \n",
       "2      3       3        1110         7      3301       15766         1238   \n",
       "3      4       3        1110         7      3301       15766         1240   \n",
       "4      5       3        1110         7      3301       15766         1242   \n",
       "\n",
       "   Venta_uni_hoy  Venta_hoy  Dev_uni_proxima  Dev_proxima  Demanda_uni_equil  \n",
       "0              3      25.14                0          0.0                  3  \n",
       "1              4      33.52                0          0.0                  4  \n",
       "2              4      39.32                0          0.0                  4  \n",
       "3              4      33.52                0          0.0                  4  \n",
       "4              3      22.92                0          0.0                  3  "
      ]
     },
     "execution_count": 32,
     "metadata": {},
     "output_type": "execute_result"
    }
   ],
   "source": [
    "df = pd.read_sql_query('SELECT * FROM data LIMIT 7400000', disk_engine)\n",
    "df.head()"
   ]
  },
  {
   "cell_type": "markdown",
   "metadata": {},
   "source": [
    "# "
   ]
  },
  {
   "cell_type": "code",
   "execution_count": 33,
   "metadata": {
    "collapsed": false
   },
   "outputs": [
    {
     "data": {
      "text/plain": [
       "12"
      ]
     },
     "execution_count": 33,
     "metadata": {},
     "output_type": "execute_result"
    }
   ],
   "source": [
    "ncols = len(df.columns)\n",
    "ncols"
   ]
  },
  {
   "cell_type": "code",
   "execution_count": 34,
   "metadata": {
    "collapsed": false
   },
   "outputs": [
    {
     "data": {
      "text/plain": [
       "index                  int64\n",
       "Semana                 int64\n",
       "Agencia_ID             int64\n",
       "Canal_ID               int64\n",
       "Ruta_SAK               int64\n",
       "Cliente_ID             int64\n",
       "Producto_ID            int64\n",
       "Venta_uni_hoy          int64\n",
       "Venta_hoy            float64\n",
       "Dev_uni_proxima        int64\n",
       "Dev_proxima          float64\n",
       "Demanda_uni_equil      int64\n",
       "dtype: object"
      ]
     },
     "execution_count": 34,
     "metadata": {},
     "output_type": "execute_result"
    }
   ],
   "source": [
    "df.dtypes"
   ]
  },
  {
   "cell_type": "code",
   "execution_count": 37,
   "metadata": {
    "collapsed": false
   },
   "outputs": [
    {
     "data": {
      "text/html": [
       "<div>\n",
       "<table border=\"1\" class=\"dataframe\">\n",
       "  <thead>\n",
       "    <tr style=\"text-align: right;\">\n",
       "      <th></th>\n",
       "      <th>index</th>\n",
       "      <th>Semana</th>\n",
       "      <th>Agencia_ID</th>\n",
       "      <th>Canal_ID</th>\n",
       "      <th>Ruta_SAK</th>\n",
       "      <th>Cliente_ID</th>\n",
       "      <th>Producto_ID</th>\n",
       "      <th>Venta_uni_hoy</th>\n",
       "      <th>Venta_hoy</th>\n",
       "      <th>Dev_uni_proxima</th>\n",
       "      <th>Dev_proxima</th>\n",
       "      <th>Demanda_uni_equil</th>\n",
       "    </tr>\n",
       "  </thead>\n",
       "  <tbody>\n",
       "    <tr>\n",
       "      <th>count</th>\n",
       "      <td>7.400000e+06</td>\n",
       "      <td>7400000.0</td>\n",
       "      <td>7.400000e+06</td>\n",
       "      <td>7.400000e+06</td>\n",
       "      <td>7.400000e+06</td>\n",
       "      <td>7.400000e+06</td>\n",
       "      <td>7.400000e+06</td>\n",
       "      <td>7.400000e+06</td>\n",
       "      <td>7.400000e+06</td>\n",
       "      <td>7.400000e+06</td>\n",
       "      <td>7.400000e+06</td>\n",
       "      <td>7.400000e+06</td>\n",
       "    </tr>\n",
       "    <tr>\n",
       "      <th>mean</th>\n",
       "      <td>3.700000e+06</td>\n",
       "      <td>3.0</td>\n",
       "      <td>1.408951e+03</td>\n",
       "      <td>1.398214e+00</td>\n",
       "      <td>2.107428e+03</td>\n",
       "      <td>1.748642e+06</td>\n",
       "      <td>2.061156e+04</td>\n",
       "      <td>6.998994e+00</td>\n",
       "      <td>6.628347e+01</td>\n",
       "      <td>1.041705e-01</td>\n",
       "      <td>1.051767e+00</td>\n",
       "      <td>6.927659e+00</td>\n",
       "    </tr>\n",
       "    <tr>\n",
       "      <th>std</th>\n",
       "      <td>2.136196e+06</td>\n",
       "      <td>0.0</td>\n",
       "      <td>2.399707e+02</td>\n",
       "      <td>1.479134e+00</td>\n",
       "      <td>1.485473e+03</td>\n",
       "      <td>1.819620e+06</td>\n",
       "      <td>1.850151e+04</td>\n",
       "      <td>2.109311e+01</td>\n",
       "      <td>3.407833e+02</td>\n",
       "      <td>2.614754e+00</td>\n",
       "      <td>2.578238e+01</td>\n",
       "      <td>2.090923e+01</td>\n",
       "    </tr>\n",
       "    <tr>\n",
       "      <th>min</th>\n",
       "      <td>1.000000e+00</td>\n",
       "      <td>3.0</td>\n",
       "      <td>1.110000e+03</td>\n",
       "      <td>1.000000e+00</td>\n",
       "      <td>1.000000e+00</td>\n",
       "      <td>7.720000e+02</td>\n",
       "      <td>5.300000e+01</td>\n",
       "      <td>0.000000e+00</td>\n",
       "      <td>0.000000e+00</td>\n",
       "      <td>0.000000e+00</td>\n",
       "      <td>0.000000e+00</td>\n",
       "      <td>0.000000e+00</td>\n",
       "    </tr>\n",
       "    <tr>\n",
       "      <th>25%</th>\n",
       "      <td>1.850001e+06</td>\n",
       "      <td>3.0</td>\n",
       "      <td>1.220000e+03</td>\n",
       "      <td>1.000000e+00</td>\n",
       "      <td>1.166000e+03</td>\n",
       "      <td>3.504250e+05</td>\n",
       "      <td>1.240000e+03</td>\n",
       "      <td>2.000000e+00</td>\n",
       "      <td>1.676000e+01</td>\n",
       "      <td>0.000000e+00</td>\n",
       "      <td>0.000000e+00</td>\n",
       "      <td>2.000000e+00</td>\n",
       "    </tr>\n",
       "    <tr>\n",
       "      <th>50%</th>\n",
       "      <td>3.700000e+06</td>\n",
       "      <td>3.0</td>\n",
       "      <td>1.347000e+03</td>\n",
       "      <td>1.000000e+00</td>\n",
       "      <td>1.414000e+03</td>\n",
       "      <td>1.138406e+06</td>\n",
       "      <td>3.054800e+04</td>\n",
       "      <td>3.000000e+00</td>\n",
       "      <td>3.002000e+01</td>\n",
       "      <td>0.000000e+00</td>\n",
       "      <td>0.000000e+00</td>\n",
       "      <td>3.000000e+00</td>\n",
       "    </tr>\n",
       "    <tr>\n",
       "      <th>75%</th>\n",
       "      <td>5.550000e+06</td>\n",
       "      <td>3.0</td>\n",
       "      <td>1.611000e+03</td>\n",
       "      <td>1.000000e+00</td>\n",
       "      <td>2.164000e+03</td>\n",
       "      <td>2.325761e+06</td>\n",
       "      <td>3.705800e+04</td>\n",
       "      <td>6.000000e+00</td>\n",
       "      <td>5.694000e+01</td>\n",
       "      <td>0.000000e+00</td>\n",
       "      <td>0.000000e+00</td>\n",
       "      <td>6.000000e+00</td>\n",
       "    </tr>\n",
       "    <tr>\n",
       "      <th>max</th>\n",
       "      <td>7.400000e+06</td>\n",
       "      <td>3.0</td>\n",
       "      <td>1.964000e+03</td>\n",
       "      <td>1.100000e+01</td>\n",
       "      <td>9.975000e+03</td>\n",
       "      <td>1.000000e+08</td>\n",
       "      <td>4.999700e+04</td>\n",
       "      <td>5.000000e+03</td>\n",
       "      <td>3.826944e+05</td>\n",
       "      <td>4.104000e+03</td>\n",
       "      <td>3.939840e+04</td>\n",
       "      <td>5.000000e+03</td>\n",
       "    </tr>\n",
       "  </tbody>\n",
       "</table>\n",
       "</div>"
      ],
      "text/plain": [
       "              index     Semana    Agencia_ID      Canal_ID      Ruta_SAK  \\\n",
       "count  7.400000e+06  7400000.0  7.400000e+06  7.400000e+06  7.400000e+06   \n",
       "mean   3.700000e+06        3.0  1.408951e+03  1.398214e+00  2.107428e+03   \n",
       "std    2.136196e+06        0.0  2.399707e+02  1.479134e+00  1.485473e+03   \n",
       "min    1.000000e+00        3.0  1.110000e+03  1.000000e+00  1.000000e+00   \n",
       "25%    1.850001e+06        3.0  1.220000e+03  1.000000e+00  1.166000e+03   \n",
       "50%    3.700000e+06        3.0  1.347000e+03  1.000000e+00  1.414000e+03   \n",
       "75%    5.550000e+06        3.0  1.611000e+03  1.000000e+00  2.164000e+03   \n",
       "max    7.400000e+06        3.0  1.964000e+03  1.100000e+01  9.975000e+03   \n",
       "\n",
       "         Cliente_ID   Producto_ID  Venta_uni_hoy     Venta_hoy  \\\n",
       "count  7.400000e+06  7.400000e+06   7.400000e+06  7.400000e+06   \n",
       "mean   1.748642e+06  2.061156e+04   6.998994e+00  6.628347e+01   \n",
       "std    1.819620e+06  1.850151e+04   2.109311e+01  3.407833e+02   \n",
       "min    7.720000e+02  5.300000e+01   0.000000e+00  0.000000e+00   \n",
       "25%    3.504250e+05  1.240000e+03   2.000000e+00  1.676000e+01   \n",
       "50%    1.138406e+06  3.054800e+04   3.000000e+00  3.002000e+01   \n",
       "75%    2.325761e+06  3.705800e+04   6.000000e+00  5.694000e+01   \n",
       "max    1.000000e+08  4.999700e+04   5.000000e+03  3.826944e+05   \n",
       "\n",
       "       Dev_uni_proxima   Dev_proxima  Demanda_uni_equil  \n",
       "count     7.400000e+06  7.400000e+06       7.400000e+06  \n",
       "mean      1.041705e-01  1.051767e+00       6.927659e+00  \n",
       "std       2.614754e+00  2.578238e+01       2.090923e+01  \n",
       "min       0.000000e+00  0.000000e+00       0.000000e+00  \n",
       "25%       0.000000e+00  0.000000e+00       2.000000e+00  \n",
       "50%       0.000000e+00  0.000000e+00       3.000000e+00  \n",
       "75%       0.000000e+00  0.000000e+00       6.000000e+00  \n",
       "max       4.104000e+03  3.939840e+04       5.000000e+03  "
      ]
     },
     "execution_count": 37,
     "metadata": {},
     "output_type": "execute_result"
    }
   ],
   "source": [
    "df.describe()"
   ]
  },
  {
   "cell_type": "code",
   "execution_count": 38,
   "metadata": {
    "collapsed": false
   },
   "outputs": [
    {
     "data": {
      "text/plain": [
       "<matplotlib.axes._subplots.AxesSubplot at 0xb00ca58>"
      ]
     },
     "execution_count": 38,
     "metadata": {},
     "output_type": "execute_result"
    },
    {
     "data": {
      "image/png": "[encoded data removed]",
      "text/plain": [
       "<matplotlib.figure.Figure at 0xb1972e8>"
      ]
     },
     "metadata": {},
     "output_type": "display_data"
    }
   ],
   "source": [
    "df.Demanda_uni_equil.hist()"
   ]
  },
  {
   "cell_type": "code",
   "execution_count": null,
   "metadata": {
    "collapsed": true
   },
   "outputs": [],
   "source": []
  }
 ],
 "metadata": {
  "kernelspec": {
   "display_name": "Python 2",
   "language": "python",
   "name": "python2"
  },
  "language_info": {
   "codemirror_mode": {
    "name": "ipython",
    "version": 2
   },
   "file_extension": ".py",
   "mimetype": "text/x-python",
   "name": "python",
   "nbconvert_exporter": "python",
   "pygments_lexer": "ipython2",
   "version": "2.7.11"
  }
 },
 "nbformat": 4,
 "nbformat_minor": 0
}
