{
 "cells": [
  {
   "cell_type": "code",
   "execution_count": 186,
   "metadata": {
    "collapsed": false
   },
   "outputs": [],
   "source": [
    "import pandas as pd\n",
    "import matplotlib.pyplot as plt\n",
    "%matplotlib inline\n",
    "import numpy as np\n",
    "import dateutil\n",
    "import plotly.plotly as py\n",
    "from matplotlib.colors import LogNorm"
   ]
  },
  {
   "cell_type": "code",
   "execution_count": 59,
   "metadata": {
    "collapsed": false
   },
   "outputs": [],
   "source": [
    "rawData = pd.read_csv(\"C:\\\\Users\\\\eladiomontero\\\\PycharmProjects\\\\KB\\\\data.csv\")"
   ]
  },
  {
   "cell_type": "code",
   "execution_count": 60,
   "metadata": {
    "collapsed": false
   },
   "outputs": [],
   "source": [
    "rawData['game_date'] = [dateutil.parser.parse(x) for x in rawData['game_date']]"
   ]
  },
  {
   "cell_type": "code",
   "execution_count": 124,
   "metadata": {
    "collapsed": false
   },
   "outputs": [],
   "source": [
    "test = rawData[pd.isnull(rawData.shot_made_flag)]\n",
    "training = rawData[-pd.isnull(rawData.shot_made_flag)]"
   ]
  },
  {
   "cell_type": "code",
   "execution_count": 48,
   "metadata": {
    "collapsed": false
   },
   "outputs": [
    {
     "name": "stdout",
     "output_type": "stream",
     "text": [
      "Test:5000\n",
      "Training:25697\n"
     ]
    }
   ],
   "source": [
    "print(\"Test:\" + str(len(test)))\n",
    "print(\"Training:\" + str(len(training)))"
   ]
  },
  {
   "cell_type": "code",
   "execution_count": 49,
   "metadata": {
    "collapsed": false
   },
   "outputs": [],
   "source": [
    "ncols = len(rawData.columns)"
   ]
  },
  {
   "cell_type": "code",
   "execution_count": 50,
   "metadata": {
    "collapsed": false
   },
   "outputs": [
    {
     "name": "stdout",
     "output_type": "stream",
     "text": [
      "Number of rows: 25697\n",
      " Number of columns: 25\n"
     ]
    }
   ],
   "source": [
    "print (\"Number of rows: \" + str(len(training)) + \"\\n Number of columns: \" + str(ncols))"
   ]
  },
  {
   "cell_type": "code",
   "execution_count": 51,
   "metadata": {
    "collapsed": false
   },
   "outputs": [
    {
     "name": "stdout",
     "output_type": "stream",
     "text": [
      "       game_event_id       game_id           lat         loc_x         loc_y  \\\n",
      "count   25697.000000  2.569700e+04  25697.000000  25697.000000  25697.000000   \n",
      "mean      249.348679  2.474109e+07     33.953043      7.148422     91.257345   \n",
      "std       149.778520  7.738108e+06      0.088152    110.073147     88.152106   \n",
      "min         2.000000  2.000001e+07     33.253300   -250.000000    -44.000000   \n",
      "25%       111.000000  2.050006e+07     33.884300    -67.000000      4.000000   \n",
      "50%       253.000000  2.090034e+07     33.970300      0.000000     74.000000   \n",
      "75%       367.000000  2.960027e+07     34.040300     94.000000    160.000000   \n",
      "max       653.000000  4.990009e+07     34.088300    248.000000    791.000000   \n",
      "\n",
      "                lon  minutes_remaining        period      playoffs  \\\n",
      "count  25697.000000       25697.000000  25697.000000  25697.000000   \n",
      "mean    -118.262652           4.886796      2.520800      0.146243   \n",
      "std        0.110073           3.452475      1.151626      0.353356   \n",
      "min     -118.519800           0.000000      1.000000      0.000000   \n",
      "25%     -118.336800           2.000000      1.000000      0.000000   \n",
      "50%     -118.269800           5.000000      3.000000      0.000000   \n",
      "75%     -118.175800           8.000000      3.000000      0.000000   \n",
      "max     -118.021800          11.000000      7.000000      1.000000   \n",
      "\n",
      "       seconds_remaining  shot_distance  shot_made_flag       team_id  \\\n",
      "count       25697.000000   25697.000000    25697.000000  2.569700e+04   \n",
      "mean           28.311554      13.457096        0.446161  1.610613e+09   \n",
      "std            17.523392       9.388725        0.497103  0.000000e+00   \n",
      "min             0.000000       0.000000        0.000000  1.610613e+09   \n",
      "25%            13.000000       5.000000        0.000000  1.610613e+09   \n",
      "50%            28.000000      15.000000        0.000000  1.610613e+09   \n",
      "75%            43.000000      21.000000        1.000000  1.610613e+09   \n",
      "max            59.000000      79.000000        1.000000  1.610613e+09   \n",
      "\n",
      "            shot_id  \n",
      "count  25697.000000  \n",
      "mean   15328.166946  \n",
      "std     8860.462397  \n",
      "min        2.000000  \n",
      "25%     7646.000000  \n",
      "50%    15336.000000  \n",
      "75%    22976.000000  \n",
      "max    30697.000000  \n"
     ]
    }
   ],
   "source": [
    "print(training.describe())\n",
    "\n"
   ]
  },
  {
   "cell_type": "code",
   "execution_count": 52,
   "metadata": {
    "collapsed": false
   },
   "outputs": [
    {
     "name": "stdout",
     "output_type": "stream",
     "text": [
      "         action_type combined_shot_type  game_event_id   game_id      lat  \\\n",
      "1          Jump Shot          Jump Shot             12  20000012  34.0443   \n",
      "2          Jump Shot          Jump Shot             35  20000012  33.9093   \n",
      "3          Jump Shot          Jump Shot             43  20000012  33.8693   \n",
      "4  Driving Dunk Shot               Dunk            155  20000012  34.0443   \n",
      "5          Jump Shot          Jump Shot            244  20000012  34.0553   \n",
      "\n",
      "   loc_x  loc_y       lon  minutes_remaining  period   ...          shot_type  \\\n",
      "1   -157      0 -118.4268                 10       1   ...     2PT Field Goal   \n",
      "2   -101    135 -118.3708                  7       1   ...     2PT Field Goal   \n",
      "3    138    175 -118.1318                  6       1   ...     2PT Field Goal   \n",
      "4      0      0 -118.2698                  6       2   ...     2PT Field Goal   \n",
      "5   -145    -11 -118.4148                  9       3   ...     2PT Field Goal   \n",
      "\n",
      "          shot_zone_area  shot_zone_basic  shot_zone_range     team_id  \\\n",
      "1           Left Side(L)        Mid-Range         8-16 ft.  1610612747   \n",
      "2   Left Side Center(LC)        Mid-Range        16-24 ft.  1610612747   \n",
      "3  Right Side Center(RC)        Mid-Range        16-24 ft.  1610612747   \n",
      "4              Center(C)  Restricted Area  Less Than 8 ft.  1610612747   \n",
      "5           Left Side(L)        Mid-Range         8-16 ft.  1610612747   \n",
      "\n",
      "            team_name   game_date    matchup opponent  shot_id  \n",
      "1  Los Angeles Lakers  10/31/2000  LAL @ POR      POR        2  \n",
      "2  Los Angeles Lakers  10/31/2000  LAL @ POR      POR        3  \n",
      "3  Los Angeles Lakers  10/31/2000  LAL @ POR      POR        4  \n",
      "4  Los Angeles Lakers  10/31/2000  LAL @ POR      POR        5  \n",
      "5  Los Angeles Lakers  10/31/2000  LAL @ POR      POR        6  \n",
      "\n",
      "[5 rows x 25 columns]\n"
     ]
    }
   ],
   "source": [
    "print(training.head())\n",
    "\n"
   ]
  },
  {
   "cell_type": "code",
   "execution_count": 53,
   "metadata": {
    "collapsed": false
   },
   "outputs": [
    {
     "name": "stdout",
     "output_type": "stream",
     "text": [
      "              action_type combined_shot_type  game_event_id   game_id  \\\n",
      "30691  Driving Layup Shot              Layup            382  49900088   \n",
      "30692           Jump Shot          Jump Shot            397  49900088   \n",
      "30694   Running Jump Shot          Jump Shot            426  49900088   \n",
      "30695           Jump Shot          Jump Shot            448  49900088   \n",
      "30696           Jump Shot          Jump Shot            471  49900088   \n",
      "\n",
      "           lat  loc_x  loc_y       lon  minutes_remaining  period   ...     \\\n",
      "30691  34.0443      0      0 -118.2698                  7       4   ...      \n",
      "30692  33.9963      1     48 -118.2688                  6       4   ...      \n",
      "30694  33.8783   -134    166 -118.4038                  3       4   ...      \n",
      "30695  33.7773     31    267 -118.2388                  2       4   ...      \n",
      "30696  33.9723      1     72 -118.2688                  0       4   ...      \n",
      "\n",
      "            shot_type        shot_zone_area        shot_zone_basic  \\\n",
      "30691  2PT Field Goal             Center(C)        Restricted Area   \n",
      "30692  2PT Field Goal             Center(C)  In The Paint (Non-RA)   \n",
      "30694  2PT Field Goal  Left Side Center(LC)              Mid-Range   \n",
      "30695  3PT Field Goal             Center(C)      Above the Break 3   \n",
      "30696  2PT Field Goal             Center(C)  In The Paint (Non-RA)   \n",
      "\n",
      "       shot_zone_range     team_id           team_name  game_date  \\\n",
      "30691  Less Than 8 ft.  1610612747  Los Angeles Lakers  6/19/2000   \n",
      "30692  Less Than 8 ft.  1610612747  Los Angeles Lakers  6/19/2000   \n",
      "30694        16-24 ft.  1610612747  Los Angeles Lakers  6/19/2000   \n",
      "30695          24+ ft.  1610612747  Los Angeles Lakers  6/19/2000   \n",
      "30696  Less Than 8 ft.  1610612747  Los Angeles Lakers  6/19/2000   \n",
      "\n",
      "           matchup opponent  shot_id  \n",
      "30691  LAL vs. IND      IND    30692  \n",
      "30692  LAL vs. IND      IND    30693  \n",
      "30694  LAL vs. IND      IND    30695  \n",
      "30695  LAL vs. IND      IND    30696  \n",
      "30696  LAL vs. IND      IND    30697  \n",
      "\n",
      "[5 rows x 25 columns]\n"
     ]
    }
   ],
   "source": [
    "print(training.tail())\n"
   ]
  },
  {
   "cell_type": "code",
   "execution_count": 138,
   "metadata": {
    "collapsed": false
   },
   "outputs": [
    {
     "name": "stdout",
     "output_type": "stream",
     "text": [
      "action_type                   object\n",
      "combined_shot_type            object\n",
      "game_event_id                  int64\n",
      "game_id                        int64\n",
      "lat                          float64\n",
      "loc_x                          int64\n",
      "loc_y                          int64\n",
      "lon                          float64\n",
      "minutes_remaining              int64\n",
      "period                         int64\n",
      "playoffs                       int64\n",
      "season                        object\n",
      "seconds_remaining              int64\n",
      "shot_distance                  int64\n",
      "shot_made_flag               float64\n",
      "shot_type                     object\n",
      "shot_zone_area                object\n",
      "shot_zone_basic               object\n",
      "shot_zone_range               object\n",
      "team_id                        int64\n",
      "team_name                     object\n",
      "game_date             datetime64[ns]\n",
      "matchup                       object\n",
      "opponent                      object\n",
      "shot_id                        int64\n",
      "dtype: object\n"
     ]
    }
   ],
   "source": [
    "print(training.dtypes)\n"
   ]
  },
  {
   "cell_type": "code",
   "execution_count": 126,
   "metadata": {
    "collapsed": true
   },
   "outputs": [],
   "source": [
    "flagsCount = training.shot_made_flag.value_counts()"
   ]
  },
  {
   "cell_type": "code",
   "execution_count": 127,
   "metadata": {
    "collapsed": false
   },
   "outputs": [
    {
     "name": "stdout",
     "output_type": "stream",
     "text": [
      "0.0    14232\n",
      "1.0    11465\n",
      "Name: shot_made_flag, dtype: int64\n"
     ]
    }
   ],
   "source": [
    "print(flagsCount)"
   ]
  },
  {
   "cell_type": "code",
   "execution_count": 128,
   "metadata": {
    "collapsed": false
   },
   "outputs": [
    {
     "data": {
      "text/plain": [
       "<matplotlib.axes._subplots.AxesSubplot at 0xe20af60>"
      ]
     },
     "execution_count": 128,
     "metadata": {},
     "output_type": "execute_result"
    },
    {
     "data": {
      "image/png": "[encoded data removed]",
      "text/plain": [
       "<matplotlib.figure.Figure at 0xb46d978>"
      ]
     },
     "metadata": {},
     "output_type": "display_data"
    }
   ],
   "source": [
    "flagsCount.plot(kind = 'bar')"
   ]
  },
  {
   "cell_type": "code",
   "execution_count": 129,
   "metadata": {
    "collapsed": false
   },
   "outputs": [
    {
     "data": {
      "text/plain": [
       "<matplotlib.axes._subplots.AxesSubplot at 0xdb8f668>"
      ]
     },
     "execution_count": 129,
     "metadata": {},
     "output_type": "execute_result"
    },
    {
     "data": {
      "image/png": "[encoded data removed]",
      "text/plain": [
       "<matplotlib.figure.Figure at 0xdf63390>"
      ]
     },
     "metadata": {},
     "output_type": "display_data"
    }
   ],
   "source": [
    "training.groupby('game_date').shot_made_flag.sum().plot(kind = 'line')"
   ]
  },
  {
   "cell_type": "code",
   "execution_count": 130,
   "metadata": {
    "collapsed": false
   },
   "outputs": [],
   "source": [
    "shots_made = training[training.shot_made_flag == 1]\n",
    "shots_failed = training[training.shot_made_flag == 0]\n"
   ]
  },
  {
   "cell_type": "code",
   "execution_count": 131,
   "metadata": {
    "collapsed": false
   },
   "outputs": [
    {
     "data": {
      "text/plain": [
       "<matplotlib.axes._subplots.AxesSubplot at 0xdf7afd0>"
      ]
     },
     "execution_count": 131,
     "metadata": {},
     "output_type": "execute_result"
    },
    {
     "data": {
      "image/png": "[encoded data removed]",
      "text/plain": [
       "<matplotlib.figure.Figure at 0xe3c10b8>"
      ]
     },
     "metadata": {},
     "output_type": "display_data"
    }
   ],
   "source": [
    "shots_made.loc[:,['shot_distance']].plot(kind = 'hist')"
   ]
  },
  {
   "cell_type": "code",
   "execution_count": 199,
   "metadata": {
    "collapsed": false
   },
   "outputs": [
    {
     "data": {
      "image/png": "[encoded data removed]",
      "text/plain": [
       "<matplotlib.figure.Figure at 0xd85fc50>"
      ]
     },
     "metadata": {},
     "output_type": "display_data"
    }
   ],
   "source": [
    "plt.figure(figsize=(6,6))\n",
    "plt.hist2d(shots_made.loc_x,shots_made.loc_y,bins = 50, norm=LogNorm())\n",
    "plt.colorbar()\n",
    "plt.show()"
   ]
  },
  {
   "cell_type": "code",
   "execution_count": 132,
   "metadata": {
    "collapsed": false
   },
   "outputs": [
    {
     "data": {
      "text/plain": [
       "<matplotlib.axes._subplots.AxesSubplot at 0xed1c278>"
      ]
     },
     "execution_count": 132,
     "metadata": {},
     "output_type": "execute_result"
    },
    {
     "data": {
      "image/png": "[encoded data removed]",
      "text/plain": [
       "<matplotlib.figure.Figure at 0xed2e908>"
      ]
     },
     "metadata": {},
     "output_type": "display_data"
    }
   ],
   "source": [
    "shots_failed.loc[:,['shot_distance']].plot(kind = 'hist')"
   ]
  },
  {
   "cell_type": "code",
   "execution_count": 198,
   "metadata": {
    "collapsed": false
   },
   "outputs": [
    {
     "data": {
      "image/png": "[encoded data removed]",
      "text/plain": [
       "<matplotlib.figure.Figure at 0x10f4bd30>"
      ]
     },
     "metadata": {},
     "output_type": "display_data"
    }
   ],
   "source": [
    "plt.figure(figsize=(6,6))\n",
    "plt.hist2d(shots_failed.loc_x,shots_failed.loc_y,bins = 50, norm=LogNorm())\n",
    "plt.colorbar()\n",
    "plt.show()"
   ]
  },
  {
   "cell_type": "code",
   "execution_count": 201,
   "metadata": {
    "collapsed": false
   },
   "outputs": [],
   "source": [
    "#This is to specify if the match was home or away\n",
    "home_training = -training.matchup.str.contains(\"@\")\n",
    "home_training = home_training * 1\n",
    "\n",
    "home_testing = -test.matchup.str.contains(\"@\")\n",
    "home_testing = home_testing * 1"
   ]
  },
  {
   "cell_type": "code",
   "execution_count": 203,
   "metadata": {
    "collapsed": false
   },
   "outputs": [],
   "source": [
    "training.Home = home_training\n",
    "test.Home = home_testing"
   ]
  },
  {
   "cell_type": "code",
   "execution_count": null,
   "metadata": {
    "collapsed": true
   },
   "outputs": [],
   "source": []
  }
 ],
 "metadata": {
  "kernelspec": {
   "display_name": "Python 2",
   "language": "python",
   "name": "python2"
  },
  "language_info": {
   "codemirror_mode": {
    "name": "ipython",
    "version": 2
   },
   "file_extension": ".py",
   "mimetype": "text/x-python",
   "name": "python",
   "nbconvert_exporter": "python",
   "pygments_lexer": "ipython2",
   "version": "2.7.11"
  }
 },
 "nbformat": 4,
 "nbformat_minor": 0
}
